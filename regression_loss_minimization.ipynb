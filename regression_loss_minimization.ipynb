{
 "cells": [
  {
   "cell_type": "code",
   "execution_count": 1,
   "metadata": {},
   "outputs": [
    {
     "name": "stderr",
     "output_type": "stream",
     "text": [
      "/root/anaconda3/lib/python3.6/importlib/_bootstrap.py:219: RuntimeWarning: numpy.dtype size changed, may indicate binary incompatibility. Expected 96, got 88\n",
      "  return f(*args, **kwds)\n",
      "/root/anaconda3/lib/python3.6/importlib/_bootstrap.py:219: RuntimeWarning: numpy.dtype size changed, may indicate binary incompatibility. Expected 96, got 88\n",
      "  return f(*args, **kwds)\n",
      "/root/anaconda3/lib/python3.6/importlib/_bootstrap.py:219: RuntimeWarning: numpy.dtype size changed, may indicate binary incompatibility. Expected 96, got 88\n",
      "  return f(*args, **kwds)\n",
      "/root/anaconda3/lib/python3.6/importlib/_bootstrap.py:219: RuntimeWarning: numpy.dtype size changed, may indicate binary incompatibility. Expected 96, got 88\n",
      "  return f(*args, **kwds)\n"
     ]
    }
   ],
   "source": [
    "import numpy as np\n",
    "import matplotlib.pyplot as plt\n",
    "\n",
    "from sklearn.datasets import make_regression\n",
    "from sklearn.linear_model import SGDRegressor"
   ]
  },
  {
   "cell_type": "markdown",
   "metadata": {},
   "source": [
    "# Without outliers"
   ]
  },
  {
   "cell_type": "code",
   "execution_count": 2,
   "metadata": {},
   "outputs": [
    {
     "data": {
      "text/plain": [
       "[<matplotlib.lines.Line2D at 0x7ffb17ee13c8>]"
      ]
     },
     "execution_count": 2,
     "metadata": {},
     "output_type": "execute_result"
    }
   ],
   "source": [
    "rng = np.random.RandomState(0)\n",
    "X, y = make_regression(n_samples=20, n_features=1, random_state=0, noise=4.0,\n",
    "                       bias=100.0)\n",
    "\n",
    "plt.plot(X, y, 'b.')"
   ]
  },
  {
   "cell_type": "code",
   "execution_count": 3,
   "metadata": {
    "collapsed": true
   },
   "outputs": [],
   "source": [
    "params_values = {\n",
    "    'MSE': {'loss': 'squared_loss', 'tol': 1e-10},\n",
    "    'MAE': {'loss': 'epsilon_insensitive', 'epsilon': 0, 'tol': 1e-100, 'max_iter': 1000000},\n",
    "    'Huber': {'loss': 'huber', 'tol': 1e-100, 'max_iter': 1000000},\n",
    "}"
   ]
  },
  {
   "cell_type": "code",
   "execution_count": 4,
   "metadata": {
    "collapsed": true
   },
   "outputs": [],
   "source": [
    "colors = ['r-', 'b-', 'y-']"
   ]
  },
  {
   "cell_type": "code",
   "execution_count": 5,
   "metadata": {
    "collapsed": true
   },
   "outputs": [],
   "source": [
    "reg_dict = {\n",
    "    'simple': {}\n",
    "}"
   ]
  },
  {
   "cell_type": "code",
   "execution_count": 6,
   "metadata": {},
   "outputs": [
    {
     "name": "stdout",
     "output_type": "stream",
     "text": [
      "MSE\n",
      "MAE\n",
      "Huber\n"
     ]
    }
   ],
   "source": [
    "x = np.linspace(X.min(), X.max(), 7)\n",
    "for k, (loss_name, params) in enumerate(params_values.items()):\n",
    "    print(loss_name)\n",
    "    reg = SGDRegressor(**params)\n",
    "    reg.fit(X, y)\n",
    "    reg_dict['simple'][loss_name] = reg\n",
    "    coef_ = reg.coef_[0] * x + reg.intercept_[0]\n",
    "    plt.plot(x, coef_, colors[k], label=f\"{loss_name} loss\")"
   ]
  },
  {
   "cell_type": "code",
   "execution_count": 7,
   "metadata": {
    "scrolled": true
   },
   "outputs": [
    {
     "data": {
      "image/png": "[encoded data removed]",
      "text/plain": [
       "<Figure size 432x288 with 1 Axes>"
      ]
     },
     "metadata": {},
     "output_type": "display_data"
    }
   ],
   "source": [
    "plt.grid()\n",
    "plt.legend()\n",
    "\n",
    "plt.show()"
   ]
  },
  {
   "cell_type": "markdown",
   "metadata": {},
   "source": [
    "MSE быстро обучился, тогда как с MAE и HUBER были проблемы и пришлось сильно увеличить им допустимое количество операция, чтобы они наконец сошлись."
   ]
  },
  {
   "cell_type": "markdown",
   "metadata": {},
   "source": [
    "# With outliers"
   ]
  },
  {
   "cell_type": "code",
   "execution_count": 8,
   "metadata": {},
   "outputs": [
    {
     "data": {
      "text/plain": [
       "[<matplotlib.lines.Line2D at 0x7ffb0db926a0>]"
      ]
     },
     "execution_count": 8,
     "metadata": {},
     "output_type": "execute_result"
    }
   ],
   "source": [
    "X_outliers = rng.normal(0, 0.5, size=(4, 1))\n",
    "y_outliers = rng.normal(0, 2.0, size=4)\n",
    "X_outliers[:2, :] += X.max() + X.mean() / 4.\n",
    "X_outliers[2:, :] += X.min() - X.mean() / 4.\n",
    "y_outliers[:2] += y.min() - y.mean() / 4.\n",
    "y_outliers[2:] += y.max() + y.mean() / 4.\n",
    "X = np.vstack((X, X_outliers))\n",
    "y = np.concatenate((y, y_outliers))\n",
    "plt.plot(X, y, 'b.')"
   ]
  },
  {
   "cell_type": "code",
   "execution_count": 9,
   "metadata": {
    "collapsed": true
   },
   "outputs": [],
   "source": [
    "params_values = {\n",
    "    'MSE': {'loss': 'squared_loss', 'tol': 1e-10},\n",
    "    'MAE': {'loss': 'epsilon_insensitive', 'epsilon': 0, 'tol': 1e-100, 'max_iter': 1000000},\n",
    "    'Huber': {'loss': 'huber', 'tol': 1e-100, 'max_iter': 1000000},\n",
    "}"
   ]
  },
  {
   "cell_type": "code",
   "execution_count": 10,
   "metadata": {
    "collapsed": true
   },
   "outputs": [],
   "source": [
    "colors = ['r-', 'b-', 'y-', 'm-']\n",
    "reg_dict['outliers'] = {}"
   ]
  },
  {
   "cell_type": "code",
   "execution_count": 11,
   "metadata": {},
   "outputs": [
    {
     "name": "stdout",
     "output_type": "stream",
     "text": [
      "MSE\n",
      "MAE\n",
      "Huber\n"
     ]
    }
   ],
   "source": [
    "x = np.linspace(X.min(), X.max(), 7)\n",
    "for k, (loss_name, params) in enumerate(params_values.items()):\n",
    "    print(loss_name)\n",
    "    reg = SGDRegressor(**params)\n",
    "    reg.fit(X, y)\n",
    "    reg_dict['outliers'][loss_name] = reg\n",
    "    coef_ = reg.coef_[0] * x + reg.intercept_[0]\n",
    "    plt.plot(x, coef_, colors[k], label=f\"{loss_name} loss\")"
   ]
  },
  {
   "cell_type": "code",
   "execution_count": 12,
   "metadata": {
    "collapsed": true
   },
   "outputs": [],
   "source": [
    "colors = ['r--', 'b--', 'y--', 'm--']\n",
    "for k, (loss_name, reg) in enumerate(reg_dict['simple'].items()):\n",
    "    coef_ = reg.coef_[0] * x + reg.intercept_[0]\n",
    "    plt.plot(x, coef_, colors[k], label=f\"{loss_name} loss before\")"
   ]
  },
  {
   "cell_type": "code",
   "execution_count": 13,
   "metadata": {
    "scrolled": true
   },
   "outputs": [
    {
     "data": {
      "image/png": "[encoded data removed]",
      "text/plain": [
       "<Figure size 432x288 with 1 Axes>"
      ]
     },
     "metadata": {},
     "output_type": "display_data"
    }
   ],
   "source": [
    "plt.grid()\n",
    "plt.legend()\n",
    "\n",
    "plt.show()"
   ]
  },
  {
   "cell_type": "markdown",
   "metadata": {},
   "source": [
    "MSE сильно поменялся, тогда как huber и mae показали себя устойчивыми к выбросам."
   ]
  },
  {
   "cell_type": "code",
   "execution_count": null,
   "metadata": {
    "collapsed": true
   },
   "outputs": [],
   "source": []
  }
 ],
 "metadata": {
  "kernelspec": {
   "display_name": "Python 3",
   "language": "python",
   "name": "python3"
  },
  "language_info": {
   "codemirror_mode": {
    "name": "ipython",
    "version": 3
   },
   "file_extension": ".py",
   "mimetype": "text/x-python",
   "name": "python",
   "nbconvert_exporter": "python",
   "pygments_lexer": "ipython3",
   "version": "3.6.8"
  }
 },
 "nbformat": 4,
 "nbformat_minor": 2
}
